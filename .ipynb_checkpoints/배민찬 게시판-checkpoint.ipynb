{
 "cells": [
  {
   "cell_type": "markdown",
   "metadata": {},
   "source": [
    "### 배민찬 게시판(공지사항)"
   ]
  },
  {
   "cell_type": "code",
   "execution_count": 196,
   "metadata": {},
   "outputs": [
    {
     "name": "stdout",
     "output_type": "stream",
     "text": [
      "공지[공지]배민찬 시스템 정기점검 안내관리자2018.06.26\n",
      "공지개인정보처리방침 개정 안내관리자2018.05.31\n",
      "공지[공지] 상품 후기 개편 및 보상 변경관리자2018.05.24\n",
      "공지[안내] 가상계좌 결제 서비스 입금만료시간 변경 안내관리자2018.03.14\n",
      "공지[안내] 배민찬 할인쿠폰 사용방법관리자2018.03.05\n",
      "136[공지] 지방선거일 휴무로 인한 6월 13일(수)~14일(목) 배송 안...관리자2018.05.28\n",
      "135[공지] 현충일 휴무로 인한 6월 6일(수)~7일(목) 배송 안내관리자2018.05.28\n",
      "134[공지] 개인정보처리방침 개정 안내관리자2018.05.21\n",
      "133[공지] 석가탄신일 휴무로 인한 5월 22일(화)~23일(수) 배송 안...관리자2018.05.14\n",
      "132[공지] 어린이날 휴무로 인한  5월 5일(토)~8일(화)  배송 안내관리자2018.04.30\n",
      "131[공지]개인/법인사업자 세금계산서 발행 안내관리자2018.04.17\n",
      "130[공지]배민찬 시스템 정기점검 안내관리자2018.04.03\n",
      "129[공지]배민찬 시스템 정기점검 안내관리자2018.03.05\n",
      "128[공지]배민찬 시스템 정기점검 안내관리자2018.02.23\n",
      "127[공지] 삼일절 휴무로 인한 3월 1일(목) ~ 3월 2일(금) 배송 안...관리자2018.02.22\n",
      "126[공지]이용약관 개정 안내관리자2018.02.20\n",
      "125[공지] 설날 연휴로 인한  2월 16일(금)~18일(일) 배송 휴무 안...관리자2018.02.09\n",
      "124배민찬 고객센터 전화 상담 연결 불가 안내 공지관리자2018.02.02\n",
      "123[공지] 개인정보처리방침 개정 안내관리자2018.02.01\n",
      "122[공지]배민찬 시스템 정기점검 안내관리자2018.01.09\n",
      "121[공지] 12월 26일(화), 1월 2일(화) 배송휴무 안내관리자2017.12.19\n",
      "120[공지] 배민찬 서버 점검 안내관리자2017.11.15\n",
      "119[공지] 개인정보처리방침 개정 안내관리자2017.10.19\n",
      "118[공지] 배민찬 서버 점검 안내관리자2017.10.18\n",
      "117[공지] 프레시BACK 캠페인 종료 안내관리자2017.09.27\n"
     ]
    }
   ],
   "source": [
    "import requests\n",
    "from bs4 import BeautifulSoup\n",
    "\n",
    "notice_url = 'https://www.baeminchan.com/board/?db=notice'\n",
    "\n",
    "request = requests.get(notice_url)\n",
    "\n",
    "response = request.text\n",
    "\n",
    "soup = BeautifulSoup(response, 'lxml')\n",
    "\n",
    "# 공지사항 테이블의 thead\n",
    "table = soup.select_one('thead > tr').get_text(strip=True)\n",
    "\n",
    "# notice = soup.select_one('table.tbl > tbody > tr:nth-of-type(1)').get_text(strip=True)\n",
    "\n",
    "notice_table = soup.select('tbody > tr')\n",
    "\n",
    "notice = []\n",
    "for i in notice_table:\n",
    "    no = soup.select_one('td:nth-of-type(1)')\n",
    "    title = soup.select_one('td.left')\n",
    "    author = soup.select_one('td:nth-of-type(3)')\n",
    "    created_date = soup.select_one('td:nth-of-type(4)')\n",
    "    \n",
    "    print(i.get_text(strip=True))"
   ]
  },
  {
   "cell_type": "code",
   "execution_count": 197,
   "metadata": {},
   "outputs": [],
   "source": [
    "\n",
    "# no = soup.select_one('tr:nth-of-type(1) > td:nth-of-type(1)').get_text(strip=True)\n",
    "# title = soup.select_one('tr > td.left')\n",
    "# author = soup.select_one('tr:nth-of-type(1) > td:nth-of-type(3)').get_text(strip=True)\n",
    "# created_date = soup.select_one('tr:nth-of-type(1) > td:nth-of-type(4)').get_text(strip=True)\n",
    "\n",
    "# print(no)\n",
    "# print(title)\n",
    "# print(author)\n",
    "# print(created_date)\n",
    "\n",
    "# notice = soup.select_one('table.tbl > tbody').get_text()\n",
    "\n",
    "# notice = soup.select_one('table.tbl')\n"
   ]
  },
  {
   "cell_type": "code",
   "execution_count": 201,
   "metadata": {},
   "outputs": [
    {
     "ename": "SyntaxError",
     "evalue": "invalid syntax (<ipython-input-201-8c7cde93863b>, line 22)",
     "output_type": "error",
     "traceback": [
      "\u001b[0;36m  File \u001b[0;32m\"<ipython-input-201-8c7cde93863b>\"\u001b[0;36m, line \u001b[0;32m22\u001b[0m\n\u001b[0;31m    print(notice_no)\u001b[0m\n\u001b[0m        ^\u001b[0m\n\u001b[0;31mSyntaxError\u001b[0m\u001b[0;31m:\u001b[0m invalid syntax\n"
     ]
    }
   ],
   "source": [
    "import requests\n",
    "from bs4 import BeautifulSoup\n",
    "\n",
    "notice_url = 'https://www.baeminchan.com/board/?db=notice'\n",
    "\n",
    "request = requests.get(notice_url)\n",
    "\n",
    "response = request.text\n",
    "\n",
    "soup = BeautifulSoup(response, 'lxml')\n",
    "\n",
    "# 공지사항 테이블의 thead\n",
    "table = soup.select_one('thead > tr').get_text(strip=True)\n",
    "\n",
    "# notice = soup.select_one('table.tbl > tbody > tr:nth-of-type(1)').get_text(strip=True)\n",
    "\n",
    "notice_table = soup.select('tbody > tr')\n",
    "\n",
    "notice_no = []\n",
    "for i in notice_table:\n",
    "    notice_no.append(soup.select_one('td:nth-of-type(1)')\n",
    "     \n",
    "notice = []\n",
    "for i in notice_table:\n",
    "    no = soup.select_one('td:nth-of-type(1)')\n",
    "    title = soup.select_one('td.left')\n",
    "    author = soup.select_one('td:nth-of-type(3)')\n",
    "    created_date = soup.select_one('td:nth-of-type(4)')\n",
    "    \n",
    "    print(i.get_text(strip=True))"
   ]
  }
 ],
 "metadata": {
  "kernelspec": {
   "display_name": "Python 3",
   "language": "python",
   "name": "python3"
  },
  "language_info": {
   "codemirror_mode": {
    "name": "ipython",
    "version": 3
   },
   "file_extension": ".py",
   "mimetype": "text/x-python",
   "name": "python",
   "nbconvert_exporter": "python",
   "pygments_lexer": "ipython3",
   "version": "3.6.5"
  }
 },
 "nbformat": 4,
 "nbformat_minor": 2
}
