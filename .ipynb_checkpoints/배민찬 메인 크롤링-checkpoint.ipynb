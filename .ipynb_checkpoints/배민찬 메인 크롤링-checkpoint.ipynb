{
 "cells": [
  {
   "cell_type": "markdown",
   "metadata": {},
   "source": [
    "## 배민 크롤링"
   ]
  },
  {
   "cell_type": "code",
   "execution_count": null,
   "metadata": {},
   "outputs": [],
   "source": [
    "import requests\n",
    "from bs4 import BeautifulSoup\n",
    "\n",
    "class BmcCrawrler():\n",
    "    \n",
    "    def __init__(self, title, img, price):\n",
    "        self.title = title\n",
    "        self.img = img\n",
    "        self.price = price\n",
    "        \n",
    "    @classmethod\n",
    "    def get_bmc(cls):\n",
    "        \n",
    "        request = requests.get('https://www.baeminchan.com/side-dish/list.php')\n",
    "\n",
    "        response = request.text\n",
    "\n",
    "        soup = BeautifulSoup(response, 'lxml')\n",
    "\n",
    "        ul = soup.select('ul#products li')\n",
    "        side_dish = []\n",
    "        \n",
    "        for i in ul:\n",
    "            title = i.select_one('a').get('ga_name')\n",
    "            img = i.select_one('img').get('src')\n",
    "            price = i.select_one('p').get_text()\n",
    "            instance = BmcCrawrler(\n",
    "                title=title,\n",
    "                img=img,\n",
    "                price=price\n",
    "            )\n",
    "            side_dish.append(instance)\n",
    "            \n",
    "        for item in side_dish:\n",
    "            print(item)\n",
    "    def __str__(self):\n",
    "        return f'{self.title} {self.img} {self.price}'\n",
    "    \n",
    "BmcCrawrler.get_bmc()"
   ]
  },
  {
   "cell_type": "code",
   "execution_count": null,
   "metadata": {},
   "outputs": [],
   "source": []
  },
  {
   "cell_type": "code",
   "execution_count": null,
   "metadata": {},
   "outputs": [],
   "source": []
  },
  {
   "cell_type": "code",
   "execution_count": null,
   "metadata": {},
   "outputs": [],
   "source": []
  },
  {
   "cell_type": "code",
   "execution_count": null,
   "metadata": {},
   "outputs": [],
   "source": []
  }
 ],
 "metadata": {
  "kernelspec": {
   "display_name": "Python 3",
   "language": "python",
   "name": "python3"
  },
  "language_info": {
   "codemirror_mode": {
    "name": "ipython",
    "version": 3
   },
   "file_extension": ".py",
   "mimetype": "text/x-python",
   "name": "python",
   "nbconvert_exporter": "python",
   "pygments_lexer": "ipython3",
   "version": "3.6.5"
  }
 },
 "nbformat": 4,
 "nbformat_minor": 2
}
