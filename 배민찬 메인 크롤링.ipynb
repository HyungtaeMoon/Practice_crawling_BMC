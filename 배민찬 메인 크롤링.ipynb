{
 "cells": [
  {
   "cell_type": "markdown",
   "metadata": {},
   "source": [
    "## 배민 크롤링"
   ]
  },
  {
   "cell_type": "code",
   "execution_count": 8,
   "metadata": {},
   "outputs": [
    {
     "name": "stdout",
     "output_type": "stream",
     "text": [
      "[집밥의완성] 별미노각생채 190g https://cdn.bmf.kr/_data/product/I714D/f849f55d5cad86a657ac6482f03d190e.jpg 3,500원\n",
      "[집밥의완성] 된장열무볶음 150g https://cdn.bmf.kr/_data/product/I0FB2/12ec6a7a34fec7909ca87eca52a28f36.jpg 2,800원\n",
      "[집밥의완성] 가지소고기볶음300g https://cdn.bmf.kr/_data/product/I980E/109b425e5c7d3bb30a34af9746c753ef.jpg 4,800원\n",
      "[집밥의완성] 호박잎쌈과 우렁강된장 310g https://cdn.bmf.kr/_data/product/I671E/3955a309b417a04db6baf4815fc4f7b8.jpg 6,600원\n",
      "[홍석천] 닭봉봉 간장조림320g https://cdn.bmf.kr/_data/product/I207D/83f41bb4abe30e463f9e91a93ad4cac5.jpg 5,800원\n",
      "[집밥의완성] 모둠 애피타이저 220g https://cdn.bmf.kr/_data/product/I98C5/5ef432b6a2b58b4023245d4b45b6214b.jpg 5,000원\n",
      "[집밥의완성] 공심채볶음 170g https://cdn.bmf.kr/_data/product/I9D6D/660bbdb89893ad00f596f7caf8f3fb72.jpg 5,200원\n",
      "[집밥의완성] 칠리오이무침 200g https://cdn.bmf.kr/_data/product/I7A71/0b94f1ac74cd8c7b9e6de8ca11606698.jpg 3,900원\n",
      "[맑을담] 마늘쫑 150g https://cdn.bmf.kr/_data/product/IF02D/365f6d9732ccfe0ec9991c5142318d73.jpg 3,150원\n",
      "[맑을담] 콩조림 100g https://cdn.bmf.kr/_data/product/I19A2/410cec826cd6bebc45dd980ccf72dbe5.jpg 3,150원\n",
      "[맑을담] 우엉깨범벅 150g https://cdn.bmf.kr/_data/product/I9E9A/797fe755bebeee9ef502387341fa9247.jpg 4,410원\n",
      "[담미] 심영순 열무김치 500g https://cdn.bmf.kr/_data/product/IB1AE/235b675b18db15e756d36b40ed84fef3.jpg 8,640원\n",
      "[담미] 심영순 오이소박이 500g https://cdn.bmf.kr/_data/product/I2E59/95ebd30c0f69725356b4f49d1330abc8.jpg 8,450원\n",
      "[담미] 심영순 깍두기 500g https://cdn.bmf.kr/_data/product/ID5C8/a948c58ef5dcee024fd0644a40624b41.jpg 7,110원\n",
      "[진가네반찬] 소고기청양고추볶음 150g https://cdn.bmf.kr/_data/product/I8B26/009e53194ebec5de1c261176ddc72d7e.jpg 5,400원\n",
      "[진가네반찬] 우엉메추리알장조림 200g https://cdn.bmf.kr/_data/product/I989A/4209a30779f5654ee86bfabca4a9202d.jpg 4,950원\n",
      "[진가네반찬] 호두아몬드땅콩조림 200g https://cdn.bmf.kr/_data/product/I76F5/092a5c8f984bc451d85c5a93fca4fe04.jpg 4,500원\n",
      "[남도애꽃] 남도식 깻잎조림 120g https://cdn.bmf.kr/_data/product/I40A1/cde3401d51c332bc607cc6ffb82aac24.jpg 4,500원\n",
      "[진가네반찬] 볼어묵브로컬리조림 150g https://cdn.bmf.kr/_data/product/I9ACB/1de451cd0fbeac094f3f4590a49d74ba.jpg 4,050원\n",
      "[진가네반찬] 우엉잡채 200g https://cdn.bmf.kr/_data/product/IC4F9/dfef6c9579f1a65109ca4a980f8e918f.jpg 6,120원\n",
      "[진가네반찬] 소고기부추계란볶음 200g https://cdn.bmf.kr/_data/product/I2AEB/88ad9533fce378513db3263dfcd7fd10.jpg 4,500원\n",
      "[진가네반찬] 닭가슴살장조림 200g https://cdn.bmf.kr/_data/product/I7F87/1170146e53482d5156ec58a34e9defe8.jpg 4,500원\n",
      "[진가네반찬] 닭가슴살와사비무침 200g https://cdn.bmf.kr/_data/product/I2BB4/17a9dac0080409dbaaf83cfc6cca2171.jpg 5,520원\n",
      "[진가네반찬] 닭가슴살야채볶음 200g https://cdn.bmf.kr/_data/product/IAE19/84a9955ff7981a7a9241462d99073d3b.jpg 4,500원\n"
     ]
    }
   ],
   "source": [
    "import requests\n",
    "from bs4 import BeautifulSoup\n",
    "\n",
    "class BmcCrawrler():\n",
    "    \n",
    "    def __init__(self, title, img, price):\n",
    "        self.title = title\n",
    "        self.img = img\n",
    "        self.price = price\n",
    "        \n",
    "    @classmethod\n",
    "    def get_bmc(cls):\n",
    "        \n",
    "        request = requests.get('https://www.baeminchan.com/side-dish/list.php')\n",
    "\n",
    "        response = request.text\n",
    "\n",
    "        soup = BeautifulSoup(response, 'lxml')\n",
    "\n",
    "        ul = soup.select('ul#products li')\n",
    "        side_dish = []\n",
    "        \n",
    "        for i in ul:\n",
    "            title = i.select_one('a').get('ga_name')\n",
    "            img = i.select_one('img').get('src')\n",
    "            price = i.select_one('p').get_text()\n",
    "            instance = BmcCrawrler(\n",
    "                title=title,\n",
    "                img=img,\n",
    "                price=price\n",
    "            )\n",
    "            side_dish.append(instance)\n",
    "            \n",
    "        for item in side_dish:\n",
    "            print(item)\n",
    "    def __str__(self):\n",
    "        return f'{self.title} {self.img} {self.price}'\n",
    "    \n",
    "BmcCrawrler.get_bmc()"
   ]
  },
  {
   "cell_type": "code",
   "execution_count": null,
   "metadata": {},
   "outputs": [],
   "source": []
  },
  {
   "cell_type": "code",
   "execution_count": null,
   "metadata": {},
   "outputs": [],
   "source": []
  },
  {
   "cell_type": "code",
   "execution_count": null,
   "metadata": {},
   "outputs": [],
   "source": []
  },
  {
   "cell_type": "code",
   "execution_count": null,
   "metadata": {},
   "outputs": [],
   "source": []
  }
 ],
 "metadata": {
  "kernelspec": {
   "display_name": "Python 3",
   "language": "python",
   "name": "python3"
  },
  "language_info": {
   "codemirror_mode": {
    "name": "ipython",
    "version": 3
   },
   "file_extension": ".py",
   "mimetype": "text/x-python",
   "name": "python",
   "nbconvert_exporter": "python",
   "pygments_lexer": "ipython3",
   "version": "3.6.5"
  }
 },
 "nbformat": 4,
 "nbformat_minor": 2
}
