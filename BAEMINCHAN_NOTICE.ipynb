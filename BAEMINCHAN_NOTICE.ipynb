{
 "cells": [
  {
   "cell_type": "markdown",
   "metadata": {},
   "source": [
    "### 배민찬 게시판(공지사항)"
   ]
  },
  {
   "cell_type": "code",
   "execution_count": 9,
   "metadata": {},
   "outputs": [
    {
     "name": "stdout",
     "output_type": "stream",
     "text": [
      "[공지] 지방선거일 휴무로 인한 6월 13일(수)~14일(목) 배송 안...\n",
      "[공지] 현충일 휴무로 인한 6월 6일(수)~7일(목) 배송 안내\t\n",
      "[공지] 개인정보처리방침 개정 안내\n",
      "[공지] 석가탄신일 휴무로 인한 5월 22일(화)~23일(수) 배송 안...\n",
      "[공지] 어린이날 휴무로 인한  5월 5일(토)~8일(화)  배송 안내\n",
      "[공지]개인/법인사업자 세금계산서 발행 안내\n",
      "[공지]배민찬 시스템 정기점검 안내\n",
      "[공지]배민찬 시스템 정기점검 안내\n",
      "[공지]배민찬 시스템 정기점검 안내\n",
      "[공지] 삼일절 휴무로 인한 3월 1일(목) ~ 3월 2일(금) 배송 안...\n",
      "[공지]이용약관 개정 안내\n",
      "[공지] 설날 연휴로 인한  2월 16일(금)~18일(일) 배송 휴무 안...\n",
      "배민찬 고객센터 전화 상담 연결 불가 안내 공지\n",
      "[공지] 개인정보처리방침 개정 안내\n",
      "[공지]배민찬 시스템 정기점검 안내\n",
      "[공지] 12월 26일(화), 1월 2일(화) 배송휴무 안내\t\n",
      "[공지] 배민찬 서버 점검 안내\n",
      "[공지] 개인정보처리방침 개정 안내\n",
      "[공지] 배민찬 서버 점검 안내\n",
      "[공지] 프레시BACK 캠페인 종료 안내\n"
     ]
    }
   ],
   "source": [
    "\n",
    "import requests\n",
    "from bs4 import BeautifulSoup\n",
    "\n",
    "class BmcNotice():\n",
    "        \n",
    "    @classmethod\n",
    "    def get_notice_list(cls):\n",
    "        \n",
    "        notice_url = 'https://www.baeminchan.com/board/?db=notice'\n",
    "\n",
    "        request = requests.get(notice_url)\n",
    "\n",
    "        response = request.text\n",
    "\n",
    "        soup = BeautifulSoup(response, 'lxml')\n",
    "\n",
    "        # 공지사항 테이블의 thead\n",
    "        table = soup.select_one('thead > tr').get_text(strip=True)\n",
    "\n",
    "        notice = soup.select('table.tbl tr')\n",
    "#         notice = soup.select('tbody')\n",
    "#         print(notice)\n",
    "    \n",
    "        notice_table = soup.select('tbody > tr')\n",
    "\n",
    "        for i in notice:\n",
    "            no = soup.select_one('td:nth-of-type(1)')\n",
    "            title = soup.select_one('td.left')\n",
    "            author = soup.select_one('td:nth-of-type(3)')\n",
    "            created_date = soup.select_one('td:nth-of-type(4)')\n",
    "            if i.select_one('td > a') is not None:\n",
    "                print(i.select_one('td > a').get_text())\n",
    "\n",
    "BmcNotice.get_notice_list()"
   ]
  },
  {
   "cell_type": "code",
   "execution_count": 2,
   "metadata": {},
   "outputs": [],
   "source": [
    "\n",
    "# no = soup.select_one('tr:nth-of-type(1) > td:nth-of-type(1)').get_text(strip=True)\n",
    "# title = soup.select_one('tr > td.left')\n",
    "# author = soup.select_one('tr:nth-of-type(1) > td:nth-of-type(3)').get_text(strip=True)\n",
    "# created_date = soup.select_one('tr:nth-of-type(1) > td:nth-of-type(4)').get_text(strip=True)\n",
    "\n",
    "# print(no)\n",
    "# print(title)\n",
    "# print(author)\n",
    "# print(created_date)\n",
    "\n",
    "# notice = soup.select_one('table.tbl > tbody').get_text()\n",
    "\n",
    "# notice = soup.select_one('table.tbl')\n"
   ]
  },
  {
   "cell_type": "code",
   "execution_count": 3,
   "metadata": {},
   "outputs": [],
   "source": [
    "# import requests\n",
    "# from bs4 import BeautifulSoup\n",
    "\n",
    "# notice_url = 'https://www.baeminchan.com/board/?db=notice'\n",
    "\n",
    "# request = requests.get(notice_url)\n",
    "\n",
    "# response = request.text\n",
    "\n",
    "# soup = BeautifulSoup(response, 'lxml')\n",
    "\n",
    "# # 공지사항 테이블의 thead\n",
    "# table = soup.select_one('thead > tr').get_text(strip=True)\n",
    "\n",
    "# # notice = soup.select_one('table.tbl > tbody > tr:nth-of-type(1)').get_text(strip=True)\n",
    "\n",
    "# notice_table = soup.select('tbody > tr')\n",
    "\n",
    "# notice_no = []\n",
    "# for i in notice_table:\n",
    "#     notice_no.append(soup.select_one('td:nth-of-type(1)')\n",
    "     \n",
    "\n",
    "# # for i in notice_table:\n",
    "# #         no = soup.select_one('td:nth-of-type(1)')\n",
    "# #         title = soup.select_one('td.left')\n",
    "# #         author = soup.select_one('td:nth-of-type(3)')\n",
    "# #         created_date = soup.select_one('td:nth-of-type(4)')\n",
    "\n",
    "#     print(i.get_text(strip=True))"
   ]
  },
  {
   "cell_type": "markdown",
   "metadata": {},
   "source": [
    "인스턴스를 리스트로 가지는 리스트를 하나 만들기\n",
    "\n",
    "리스트의 내용을 출력하기"
   ]
  },
  {
   "cell_type": "code",
   "execution_count": null,
   "metadata": {},
   "outputs": [],
   "source": []
  }
 ],
 "metadata": {
  "kernelspec": {
   "display_name": "Python 3",
   "language": "python",
   "name": "python3"
  },
  "language_info": {
   "codemirror_mode": {
    "name": "ipython",
    "version": 3
   },
   "file_extension": ".py",
   "mimetype": "text/x-python",
   "name": "python",
   "nbconvert_exporter": "python",
   "pygments_lexer": "ipython3",
   "version": "3.6.5"
  }
 },
 "nbformat": 4,
 "nbformat_minor": 2
}
